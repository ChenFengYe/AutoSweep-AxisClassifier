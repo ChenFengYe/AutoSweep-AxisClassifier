{
 "cells": [
  {
   "cell_type": "code",
   "execution_count": 14,
   "metadata": {
    "collapsed": true
   },
   "outputs": [],
   "source": [
    "import numpy as np\n",
    "import os\n",
    "import urllib\n",
    "import gzip\n",
    "import struct\n",
    "import matplotlib.pyplot as plt\n",
    "import cv2\n",
    "from skimage import io\n",
    "# def download_data(url, force_download=True):     \n",
    "#     fname = url.split(\"/\")[-1]\n",
    "#     if force_download or not os.path.exists(fname):\n",
    "#         urllib.urlretrieve(url, fname)\n",
    "#     return fname\n",
    "\n",
    "# def read_data(label_url, image_url):\n",
    "#     with gzip.open(download_data(label_url)) as flbl:\n",
    "#         magic, num = struct.unpack(\">II\", flbl.read(8))\n",
    "#         label = np.fromstring(flbl.read(), dtype=np.int8)\n",
    "#     with gzip.open(download_data(image_url), 'rb') as fimg:\n",
    "#         magic, num, rows, cols = struct.unpack(\">IIII\", fimg.read(16))\n",
    "#         image = np.fromstring(fimg.read(), dtype=np.uint8).reshape(len(label), rows, cols)\n",
    "#     return (label, image)\n",
    "\n",
    "# path='mnist_data/'\n",
    "# (train_lbl, train_img) = read_data(\n",
    "#     path+'train-labels-idx1-ubyte.gz', path+'train-images-idx3-ubyte.gz')\n",
    "# (val_lbl, val_img) = read_data(\n",
    "#     path+'t10k-labels-idx1-ubyte.gz', path+'t10k-images-idx3-ubyte.gz')"
   ]
  },
  {
   "cell_type": "code",
   "execution_count": 15,
   "metadata": {
    "collapsed": true
   },
   "outputs": [],
   "source": [
    "# config file\n",
    "gpus = '0,1'\n",
    "begin_epoch = 0\n",
    "num_epoch = 10\n",
    "resume = True\n",
    "model_prefix = 'model/e2e'\n",
    "#\n",
    "batch_size = 100\n",
    "lr_rate = 0.1\n",
    "# dataset\n",
    "train_set = 'data/ImageSets/train.txt'\n",
    "val_set = 'data/ImageSets/val.txt'"
   ]
  },
  {
   "cell_type": "code",
   "execution_count": 16,
   "metadata": {
    "collapsed": true
   },
   "outputs": [],
   "source": [
    "def load_image_set_index(image_set_path):\n",
    "    image_set_index_file = os.path.join(image_set_path)\n",
    "    assert os.path.exists(image_set_index_file), 'Path does not exist: {}'.format(image_set_index_file)\n",
    "    with open(image_set_index_file) as f:\n",
    "        image_set_index = [x.strip().split(' ')[0] for x in f.readlines()]\n",
    "    with open(image_set_index_file) as f:\n",
    "        label = [int(x.strip().split(' ')[1]) for x in f.readlines()]\n",
    "    label = np.ndarray(shape=(len(label),), dtype= int, buffer=np.array(label))\n",
    "    return image_set_index, label\n",
    "\n",
    "def load_image(image_set_index):\n",
    "    images = np.zeros([len(image_set_index), 28, 28], dtype = np.int)\n",
    "    for idx, img_path in enumerate(image_set_index):\n",
    "        image_file = os.path.join('data/img/',img_path + '.png')\n",
    "        image = cv2.imread(image_file, cv2.IMREAD_GRAYSCALE)\n",
    "        images[idx,:,:] = image\n",
    "    images = np.ndarray(shape=(np.shape(images)), dtype = np.int, buffer=images)\n",
    "    return images\n",
    "\n",
    "[train_set_index, train_lbl] = load_image_set_index(train_set)    \n",
    "train_img = load_image(train_set_index)\n",
    "[val_set_index, val_lbl] = load_image_set_index(val_set)    \n",
    "val_img = load_image(val_set_index)"
   ]
  },
  {
   "cell_type": "code",
   "execution_count": 39,
   "metadata": {},
   "outputs": [
    {
     "data": {
      "image/png": "[encoded data removed]",
      "text/plain": [
       "<matplotlib.figure.Figure at 0x7f3f473fb850>"
      ]
     },
     "metadata": {},
     "output_type": "display_data"
    },
    {
     "name": "stdout",
     "output_type": "stream",
     "text": [
      "label: [1 1 1 1 1 1 1 1 1 1]\n"
     ]
    }
   ],
   "source": [
    "for i in range(10):\n",
    "    plt.subplot(1,10,i+1)\n",
    "    plt.imshow(train_img[i], cmap='Greys_r')\n",
    "    plt.axis('off')\n",
    "plt.show()\n",
    "\n",
    "print('label: %s' % (train_lbl[0:10],))"
   ]
  },
  {
   "cell_type": "code",
   "execution_count": 18,
   "metadata": {
    "collapsed": true
   },
   "outputs": [],
   "source": [
    "# config\n",
    "gpus = '0,1'\n",
    "begin_epoch = 0\n",
    "num_epoch = 10\n",
    "resume = False\n",
    "model_prefix = 'model/e2e'\n",
    "\n",
    "\n",
    "batch_size = 100\n",
    "lr_rate = 0.1"
   ]
  },
  {
   "cell_type": "code",
   "execution_count": 19,
   "metadata": {
    "collapsed": true
   },
   "outputs": [],
   "source": [
    "import mxnet as mx\n",
    "\n",
    "def to4d(img):\n",
    "    return img.reshape(img.shape[0], 1, 28, 28).astype(np.float32)/255\n",
    "\n",
    "train_iter = mx.io.NDArrayIter(to4d(train_img), train_lbl, batch_size, shuffle=True)\n",
    "val_iter = mx.io.NDArrayIter(to4d(val_img), val_lbl, batch_size)"
   ]
  },
  {
   "cell_type": "code",
   "execution_count": 30,
   "metadata": {},
   "outputs": [
    {
     "data": {
      "image/svg+xml": [
       "<?xml version=\"1.0\" encoding=\"UTF-8\" standalone=\"no\"?>\n",
       "<!DOCTYPE svg PUBLIC \"-//W3C//DTD SVG 1.1//EN\"\n",
       " \"http://www.w3.org/Graphics/SVG/1.1/DTD/svg11.dtd\">\n",
       "<!-- Generated by graphviz version 2.38.0 (20140413.2041)\n",
       " -->\n",
       "<!-- Title: plot Pages: 1 -->\n",
       "<svg width=\"214pt\" height=\"829pt\"\n",
       " viewBox=\"0.00 0.00 214.00 829.00\" xmlns=\"http://www.w3.org/2000/svg\" xmlns:xlink=\"http://www.w3.org/1999/xlink\">\n",
       "<g id=\"graph0\" class=\"graph\" transform=\"scale(1 1) rotate(0) translate(4 825)\">\n",
       "<title>plot</title>\n",
       "<polygon fill=\"white\" stroke=\"none\" points=\"-4,4 -4,-825 210,-825 210,4 -4,4\"/>\n",
       "<!-- data -->\n",
       "<g id=\"node1\" class=\"node\"><title>data</title>\n",
       "<ellipse fill=\"#8dd3c7\" stroke=\"black\" cx=\"47\" cy=\"-29\" rx=\"47\" ry=\"29\"/>\n",
       "<text text-anchor=\"middle\" x=\"47\" y=\"-25.3\" font-family=\"Times,serif\" font-size=\"14.00\">data</text>\n",
       "</g>\n",
       "<!-- flatten2 -->\n",
       "<g id=\"node2\" class=\"node\"><title>flatten2</title>\n",
       "<polygon fill=\"#fdb462\" stroke=\"black\" points=\"94,-167 -7.10543e-15,-167 -7.10543e-15,-109 94,-109 94,-167\"/>\n",
       "<text text-anchor=\"middle\" x=\"47\" y=\"-134.3\" font-family=\"Times,serif\" font-size=\"14.00\">flatten2</text>\n",
       "</g>\n",
       "<!-- flatten2&#45;&gt;data -->\n",
       "<g id=\"edge1\" class=\"edge\"><title>flatten2&#45;&gt;data</title>\n",
       "<path fill=\"none\" stroke=\"black\" d=\"M47,-98.5824C47,-85.2841 47,-70.632 47,-58.2967\"/>\n",
       "<polygon fill=\"black\" stroke=\"black\" points=\"47,-108.887 42.5001,-98.887 47,-103.887 47.0001,-98.887 47.0001,-98.887 47.0001,-98.887 47,-103.887 51.5001,-98.8871 47,-108.887 47,-108.887\"/>\n",
       "<text text-anchor=\"middle\" x=\"71\" y=\"-79.8\" font-family=\"Times,serif\" font-size=\"14.00\">1x28x28</text>\n",
       "</g>\n",
       "<!-- fc1 -->\n",
       "<g id=\"node3\" class=\"node\"><title>fc1</title>\n",
       "<polygon fill=\"#fb8072\" stroke=\"black\" points=\"94,-276 -7.10543e-15,-276 -7.10543e-15,-218 94,-218 94,-276\"/>\n",
       "<text text-anchor=\"middle\" x=\"47\" y=\"-250.8\" font-family=\"Times,serif\" font-size=\"14.00\">FullyConnected</text>\n",
       "<text text-anchor=\"middle\" x=\"47\" y=\"-235.8\" font-family=\"Times,serif\" font-size=\"14.00\">128</text>\n",
       "</g>\n",
       "<!-- fc1&#45;&gt;flatten2 -->\n",
       "<g id=\"edge2\" class=\"edge\"><title>fc1&#45;&gt;flatten2</title>\n",
       "<path fill=\"none\" stroke=\"black\" d=\"M47,-207.582C47,-194.284 47,-179.632 47,-167.297\"/>\n",
       "<polygon fill=\"black\" stroke=\"black\" points=\"47,-217.887 42.5001,-207.887 47,-212.887 47.0001,-207.887 47.0001,-207.887 47.0001,-207.887 47,-212.887 51.5001,-207.887 47,-217.887 47,-217.887\"/>\n",
       "<text text-anchor=\"middle\" x=\"57.5\" y=\"-188.8\" font-family=\"Times,serif\" font-size=\"14.00\">784</text>\n",
       "</g>\n",
       "<!-- relu1 -->\n",
       "<g id=\"node4\" class=\"node\"><title>relu1</title>\n",
       "<polygon fill=\"#ffffb3\" stroke=\"black\" points=\"94,-385 -7.10543e-15,-385 -7.10543e-15,-327 94,-327 94,-385\"/>\n",
       "<text text-anchor=\"middle\" x=\"47\" y=\"-359.8\" font-family=\"Times,serif\" font-size=\"14.00\">Activation</text>\n",
       "<text text-anchor=\"middle\" x=\"47\" y=\"-344.8\" font-family=\"Times,serif\" font-size=\"14.00\">relu</text>\n",
       "</g>\n",
       "<!-- relu1&#45;&gt;fc1 -->\n",
       "<g id=\"edge3\" class=\"edge\"><title>relu1&#45;&gt;fc1</title>\n",
       "<path fill=\"none\" stroke=\"black\" d=\"M47,-316.582C47,-303.284 47,-288.632 47,-276.297\"/>\n",
       "<polygon fill=\"black\" stroke=\"black\" points=\"47,-326.887 42.5001,-316.887 47,-321.887 47.0001,-316.887 47.0001,-316.887 47.0001,-316.887 47,-321.887 51.5001,-316.887 47,-326.887 47,-326.887\"/>\n",
       "<text text-anchor=\"middle\" x=\"57.5\" y=\"-297.8\" font-family=\"Times,serif\" font-size=\"14.00\">128</text>\n",
       "</g>\n",
       "<!-- fc2 -->\n",
       "<g id=\"node5\" class=\"node\"><title>fc2</title>\n",
       "<polygon fill=\"#fb8072\" stroke=\"black\" points=\"94,-494 -7.10543e-15,-494 -7.10543e-15,-436 94,-436 94,-494\"/>\n",
       "<text text-anchor=\"middle\" x=\"47\" y=\"-468.8\" font-family=\"Times,serif\" font-size=\"14.00\">FullyConnected</text>\n",
       "<text text-anchor=\"middle\" x=\"47\" y=\"-453.8\" font-family=\"Times,serif\" font-size=\"14.00\">64</text>\n",
       "</g>\n",
       "<!-- fc2&#45;&gt;relu1 -->\n",
       "<g id=\"edge4\" class=\"edge\"><title>fc2&#45;&gt;relu1</title>\n",
       "<path fill=\"none\" stroke=\"black\" d=\"M47,-425.582C47,-412.284 47,-397.632 47,-385.297\"/>\n",
       "<polygon fill=\"black\" stroke=\"black\" points=\"47,-435.887 42.5001,-425.887 47,-430.887 47.0001,-425.887 47.0001,-425.887 47.0001,-425.887 47,-430.887 51.5001,-425.887 47,-435.887 47,-435.887\"/>\n",
       "<text text-anchor=\"middle\" x=\"57.5\" y=\"-406.8\" font-family=\"Times,serif\" font-size=\"14.00\">128</text>\n",
       "</g>\n",
       "<!-- relu2 -->\n",
       "<g id=\"node6\" class=\"node\"><title>relu2</title>\n",
       "<polygon fill=\"#ffffb3\" stroke=\"black\" points=\"94,-603 -7.10543e-15,-603 -7.10543e-15,-545 94,-545 94,-603\"/>\n",
       "<text text-anchor=\"middle\" x=\"47\" y=\"-577.8\" font-family=\"Times,serif\" font-size=\"14.00\">Activation</text>\n",
       "<text text-anchor=\"middle\" x=\"47\" y=\"-562.8\" font-family=\"Times,serif\" font-size=\"14.00\">relu</text>\n",
       "</g>\n",
       "<!-- relu2&#45;&gt;fc2 -->\n",
       "<g id=\"edge5\" class=\"edge\"><title>relu2&#45;&gt;fc2</title>\n",
       "<path fill=\"none\" stroke=\"black\" d=\"M47,-534.582C47,-521.284 47,-506.632 47,-494.297\"/>\n",
       "<polygon fill=\"black\" stroke=\"black\" points=\"47,-544.887 42.5001,-534.887 47,-539.887 47.0001,-534.887 47.0001,-534.887 47.0001,-534.887 47,-539.887 51.5001,-534.887 47,-544.887 47,-544.887\"/>\n",
       "<text text-anchor=\"middle\" x=\"54\" y=\"-515.8\" font-family=\"Times,serif\" font-size=\"14.00\">64</text>\n",
       "</g>\n",
       "<!-- fc3 -->\n",
       "<g id=\"node7\" class=\"node\"><title>fc3</title>\n",
       "<polygon fill=\"#fb8072\" stroke=\"black\" points=\"94,-712 -7.10543e-15,-712 -7.10543e-15,-654 94,-654 94,-712\"/>\n",
       "<text text-anchor=\"middle\" x=\"47\" y=\"-686.8\" font-family=\"Times,serif\" font-size=\"14.00\">FullyConnected</text>\n",
       "<text text-anchor=\"middle\" x=\"47\" y=\"-671.8\" font-family=\"Times,serif\" font-size=\"14.00\">2</text>\n",
       "</g>\n",
       "<!-- fc3&#45;&gt;relu2 -->\n",
       "<g id=\"edge6\" class=\"edge\"><title>fc3&#45;&gt;relu2</title>\n",
       "<path fill=\"none\" stroke=\"black\" d=\"M47,-643.582C47,-630.284 47,-615.632 47,-603.297\"/>\n",
       "<polygon fill=\"black\" stroke=\"black\" points=\"47,-653.887 42.5001,-643.887 47,-648.887 47.0001,-643.887 47.0001,-643.887 47.0001,-643.887 47,-648.887 51.5001,-643.887 47,-653.887 47,-653.887\"/>\n",
       "<text text-anchor=\"middle\" x=\"54\" y=\"-624.8\" font-family=\"Times,serif\" font-size=\"14.00\">64</text>\n",
       "</g>\n",
       "<!-- softmax_label -->\n",
       "<g id=\"node8\" class=\"node\"><title>softmax_label</title>\n",
       "<ellipse fill=\"#8dd3c7\" stroke=\"black\" cx=\"159\" cy=\"-683\" rx=\"47\" ry=\"29\"/>\n",
       "<text text-anchor=\"middle\" x=\"159\" y=\"-679.3\" font-family=\"Times,serif\" font-size=\"14.00\">softmax_label</text>\n",
       "</g>\n",
       "<!-- softmax -->\n",
       "<g id=\"node9\" class=\"node\"><title>softmax</title>\n",
       "<polygon fill=\"#fccde5\" stroke=\"black\" points=\"172,-821 78,-821 78,-763 172,-763 172,-821\"/>\n",
       "<text text-anchor=\"middle\" x=\"125\" y=\"-788.3\" font-family=\"Times,serif\" font-size=\"14.00\">softmax</text>\n",
       "</g>\n",
       "<!-- softmax&#45;&gt;fc3 -->\n",
       "<g id=\"edge7\" class=\"edge\"><title>softmax&#45;&gt;fc3</title>\n",
       "<path fill=\"none\" stroke=\"black\" d=\"M98.4268,-754.547C88.3623,-740.741 77.0647,-725.243 67.6275,-712.297\"/>\n",
       "<polygon fill=\"black\" stroke=\"black\" points=\"104.506,-762.887 94.9793,-757.457 101.561,-758.847 98.6157,-754.806 98.6157,-754.806 98.6157,-754.806 101.561,-758.847 102.252,-752.155 104.506,-762.887 104.506,-762.887\"/>\n",
       "<text text-anchor=\"middle\" x=\"94.5\" y=\"-733.8\" font-family=\"Times,serif\" font-size=\"14.00\">2</text>\n",
       "</g>\n",
       "<!-- softmax&#45;&gt;softmax_label -->\n",
       "<g id=\"edge8\" class=\"edge\"><title>softmax&#45;&gt;softmax_label</title>\n",
       "<path fill=\"none\" stroke=\"black\" d=\"M137.007,-753.215C141.37,-739.483 146.215,-724.236 150.244,-711.555\"/>\n",
       "<polygon fill=\"black\" stroke=\"black\" points=\"133.933,-762.887 132.673,-751.994 135.447,-758.122 136.962,-753.357 136.962,-753.357 136.962,-753.357 135.447,-758.122 141.25,-754.719 133.933,-762.887 133.933,-762.887\"/>\n",
       "</g>\n",
       "</g>\n",
       "</svg>\n"
      ],
      "text/plain": [
       "<graphviz.dot.Digraph at 0x7f3e2a210950>"
      ]
     },
     "execution_count": 30,
     "metadata": {},
     "output_type": "execute_result"
    }
   ],
   "source": [
    "# Create a place holder variable for the input data\n",
    "data = mx.sym.Variable('data')\n",
    "# Flatten the data from 4-D shape (batch_size, num_channel, width, height) \n",
    "# into 2-D (batch_size, num_channel*width*height)\n",
    "data = mx.sym.Flatten(data=data)\n",
    "\n",
    "# The first fully-connected layer\n",
    "fc1  = mx.sym.FullyConnected(data=data, name='fc1', num_hidden=128)\n",
    "# Apply relu to the output of the first fully-connnected layer\n",
    "act1 = mx.sym.Activation(data=fc1, name='relu1', act_type=\"relu\")\n",
    "\n",
    "# The second fully-connected layer and the according activation function\n",
    "fc2  = mx.sym.FullyConnected(data=act1, name='fc2', num_hidden = 64)\n",
    "act2 = mx.sym.Activation(data=fc2, name='relu2', act_type=\"relu\")\n",
    "\n",
    "# The thrid fully-connected layer, note that the hidden size should be 10, which is the number of unique digits\n",
    "fc3  = mx.sym.FullyConnected(data=act2, name='fc3', num_hidden=2)\n",
    "# The softmax and loss layer\n",
    "mlp  = mx.sym.SoftmaxOutput(data=fc3, name='softmax')\n",
    "\n",
    "# We visualize the network structure with output size (the batch_size is ignored.)\n",
    "shape = {\"data\" : (batch_size, 1, 28, 28)}\n",
    "# mx.viz.plot_network(symbol=mlp, shape=shape)"
   ]
  },
  {
   "cell_type": "code",
   "execution_count": 21,
   "metadata": {},
   "outputs": [
    {
     "name": "stderr",
     "output_type": "stream",
     "text": [
      "INFO:root:Epoch[0] Train-accuracy=0.660000\n",
      "INFO:root:Epoch[0] Time cost=0.008\n",
      "INFO:root:Epoch[0] Validation-accuracy=0.940000\n",
      "INFO:root:Epoch[1] Train-accuracy=0.805000\n",
      "INFO:root:Epoch[1] Time cost=0.007\n",
      "INFO:root:Epoch[1] Validation-accuracy=0.940000\n",
      "INFO:root:Epoch[2] Train-accuracy=0.805000\n",
      "INFO:root:Epoch[2] Time cost=0.005\n",
      "INFO:root:Epoch[2] Validation-accuracy=0.940000\n",
      "INFO:root:Epoch[3] Train-accuracy=0.805000\n",
      "INFO:root:Epoch[3] Time cost=0.005\n",
      "INFO:root:Epoch[3] Validation-accuracy=0.940000\n",
      "INFO:root:Epoch[4] Train-accuracy=0.805000\n",
      "INFO:root:Epoch[4] Time cost=0.005\n",
      "INFO:root:Epoch[4] Validation-accuracy=0.940000\n",
      "INFO:root:Epoch[5] Train-accuracy=0.805000\n",
      "INFO:root:Epoch[5] Time cost=0.005\n",
      "INFO:root:Epoch[5] Validation-accuracy=0.940000\n",
      "INFO:root:Epoch[6] Train-accuracy=0.805000\n",
      "INFO:root:Epoch[6] Time cost=0.005\n",
      "INFO:root:Epoch[6] Validation-accuracy=0.940000\n",
      "INFO:root:Epoch[7] Train-accuracy=0.805000\n",
      "INFO:root:Epoch[7] Time cost=0.005\n",
      "INFO:root:Epoch[7] Validation-accuracy=0.940000\n",
      "INFO:root:Epoch[8] Train-accuracy=0.805000\n",
      "INFO:root:Epoch[8] Time cost=0.005\n",
      "INFO:root:Epoch[8] Validation-accuracy=0.940000\n",
      "INFO:root:Epoch[9] Train-accuracy=0.805000\n",
      "INFO:root:Epoch[9] Time cost=0.005\n",
      "INFO:root:Epoch[9] Validation-accuracy=0.940000\n",
      "INFO:root:Saved checkpoint to \"model/e2e-0010.params\"\n"
     ]
    }
   ],
   "source": [
    "import logging\n",
    "logging.getLogger().setLevel(logging.DEBUG)  # logging to stdout\n",
    "# create a trainable module on CPU\n",
    "ctx = [mx.gpu(int(i)) for i in gpus.split(',')]\n",
    "mlp_model = mx.mod.Module(symbol=mlp, context=ctx)\n",
    "if resume:\n",
    "    sym, arg_params, aux_params = mx.model.load_checkpoint(model_prefix, num_epoch)\n",
    "else:\n",
    "    arg_params,aux_params = None,None\n",
    "    \n",
    "mlp_model.fit(train_iter,              # train data\n",
    "              eval_data=val_iter,      # validation data\n",
    "              optimizer='sgd',         # use SGD to train\n",
    "              optimizer_params={'learning_rate':lr_rate},  # use fixed learning rate\n",
    "              arg_params=arg_params, aux_params=aux_params,\n",
    "              eval_metric='acc',                           # report accuracy during training\n",
    "              batch_end_callback = mx.callback.Speedometer(batch_size, 100), # output progress for each 100 data batches\n",
    "              begin_epoch = begin_epoch, num_epoch=num_epoch)                # train for at most 10 dataset passes\n",
    "mlp_model.save_checkpoint(model_prefix, num_epoch)"
   ]
  },
  {
   "cell_type": "code",
   "execution_count": 47,
   "metadata": {},
   "outputs": [
    {
     "data": {
      "image/png": "[encoded data removed]",
      "text/plain": [
       "<matplotlib.figure.Figure at 0x7f3f476f3890>"
      ]
     },
     "metadata": {},
     "output_type": "display_data"
    },
    {
     "name": "stdout",
     "output_type": "stream",
     "text": [
      "Predict label: [1 1 1 1 1 1 1 1 1 1]\n",
      "Predict Prob : [ 0.74308312  0.74342656  0.74342561  0.74354941  0.74382472  0.7438876\n",
      "  0.74229187  0.74355924  0.74340379  0.74192452]\n"
     ]
    }
   ],
   "source": [
    "prob = mlp_model.predict(val_iter)[0:10].asnumpy()\n",
    "for i in range(10):\n",
    "    plt.subplot(1,10,i+1)\n",
    "    plt.imshow(val_img[i], cmap='Greys_r')\n",
    "    plt.axis('off')\n",
    "plt.show()\n",
    "print('Predict label: %s' % (prob.argmax(axis=1)))\n",
    "print('Predict Prob : %s' % (prob.max(axis=1)))\n",
    "# assert max(prob) > 0.70, \"Low prediction accuracy.\""
   ]
  },
  {
   "cell_type": "code",
   "execution_count": 48,
   "metadata": {},
   "outputs": [
    {
     "name": "stdout",
     "output_type": "stream",
     "text": [
      "EvalMetric: {'accuracy': 0.94}\n"
     ]
    }
   ],
   "source": [
    "test_iter = mx.io.NDArrayIter(val_img, val_lbl, batch_size)\n",
    "# predict accuracy of mlp\n",
    "acc = mx.metric.Accuracy()\n",
    "mlp_model.score(test_iter, acc)\n",
    "print(acc)\n",
    "assert acc.get()[1] > 0.60\n"
   ]
  },
  {
   "cell_type": "code",
   "execution_count": null,
   "metadata": {
    "collapsed": true
   },
   "outputs": [],
   "source": [
    "# reference\n",
    "# https://github.com/dmlc/mxnet-notebooks/blob/master/python/tutorials/mnist.ipynb\n",
    "# https://mxnet.incubator.apache.org/tutorials/python/mnist.html"
   ]
  }
 ],
 "metadata": {
  "kernelspec": {
   "display_name": "Python 2",
   "language": "python",
   "name": "python2"
  },
  "language_info": {
   "codemirror_mode": {
    "name": "ipython",
    "version": 2
   },
   "file_extension": ".py",
   "mimetype": "text/x-python",
   "name": "python",
   "nbconvert_exporter": "python",
   "pygments_lexer": "ipython2",
   "version": "2.7.12"
  }
 },
 "nbformat": 4,
 "nbformat_minor": 2
}
